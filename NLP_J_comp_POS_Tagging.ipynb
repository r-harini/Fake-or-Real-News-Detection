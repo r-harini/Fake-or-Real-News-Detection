{
 "cells": [
  {
   "cell_type": "code",
   "execution_count": null,
   "metadata": {
    "id": "ENa-1L01a3-J"
   },
   "outputs": [],
   "source": [
    "import numpy as np \n",
    "import pandas as pd"
   ]
  },
  {
   "cell_type": "code",
   "execution_count": null,
   "metadata": {
    "id": "OuHG2958a3-O"
   },
   "outputs": [],
   "source": [
    "true = pd.read_csv(\"True.csv\")\n",
    "false = pd.read_csv(\"Fake.csv\")\n",
    "true['category'] = 1\n",
    "false['category'] = 0\n",
    "df = pd.concat([true,false]) #Merging the 2 datasets"
   ]
  },
  {
   "cell_type": "code",
   "execution_count": null,
   "metadata": {
    "id": "f1bBI-FFa3-W",
    "outputId": "f218123d-be24-4afe-9408-3067bea58179"
   },
   "outputs": [
    {
     "data": {
      "text/html": [
       "<div>\n",
       "<style scoped>\n",
       "    .dataframe tbody tr th:only-of-type {\n",
       "        vertical-align: middle;\n",
       "    }\n",
       "\n",
       "    .dataframe tbody tr th {\n",
       "        vertical-align: top;\n",
       "    }\n",
       "\n",
       "    .dataframe thead th {\n",
       "        text-align: right;\n",
       "    }\n",
       "</style>\n",
       "<table border=\"1\" class=\"dataframe\">\n",
       "  <thead>\n",
       "    <tr style=\"text-align: right;\">\n",
       "      <th></th>\n",
       "      <th>title</th>\n",
       "      <th>text</th>\n",
       "      <th>subject</th>\n",
       "      <th>date</th>\n",
       "      <th>category</th>\n",
       "    </tr>\n",
       "  </thead>\n",
       "  <tbody>\n",
       "    <tr>\n",
       "      <th>0</th>\n",
       "      <td>As U.S. budget fight looms, Republicans flip t...</td>\n",
       "      <td>WASHINGTON (Reuters) - The head of a conservat...</td>\n",
       "      <td>politicsNews</td>\n",
       "      <td>December 31, 2017</td>\n",
       "      <td>1</td>\n",
       "    </tr>\n",
       "    <tr>\n",
       "      <th>1</th>\n",
       "      <td>U.S. military to accept transgender recruits o...</td>\n",
       "      <td>WASHINGTON (Reuters) - Transgender people will...</td>\n",
       "      <td>politicsNews</td>\n",
       "      <td>December 29, 2017</td>\n",
       "      <td>1</td>\n",
       "    </tr>\n",
       "    <tr>\n",
       "      <th>2</th>\n",
       "      <td>Senior U.S. Republican senator: 'Let Mr. Muell...</td>\n",
       "      <td>WASHINGTON (Reuters) - The special counsel inv...</td>\n",
       "      <td>politicsNews</td>\n",
       "      <td>December 31, 2017</td>\n",
       "      <td>1</td>\n",
       "    </tr>\n",
       "    <tr>\n",
       "      <th>3</th>\n",
       "      <td>FBI Russia probe helped by Australian diplomat...</td>\n",
       "      <td>WASHINGTON (Reuters) - Trump campaign adviser ...</td>\n",
       "      <td>politicsNews</td>\n",
       "      <td>December 30, 2017</td>\n",
       "      <td>1</td>\n",
       "    </tr>\n",
       "    <tr>\n",
       "      <th>4</th>\n",
       "      <td>Trump wants Postal Service to charge 'much mor...</td>\n",
       "      <td>SEATTLE/WASHINGTON (Reuters) - President Donal...</td>\n",
       "      <td>politicsNews</td>\n",
       "      <td>December 29, 2017</td>\n",
       "      <td>1</td>\n",
       "    </tr>\n",
       "  </tbody>\n",
       "</table>\n",
       "</div>"
      ],
      "text/plain": [
       "                                               title  \\\n",
       "0  As U.S. budget fight looms, Republicans flip t...   \n",
       "1  U.S. military to accept transgender recruits o...   \n",
       "2  Senior U.S. Republican senator: 'Let Mr. Muell...   \n",
       "3  FBI Russia probe helped by Australian diplomat...   \n",
       "4  Trump wants Postal Service to charge 'much mor...   \n",
       "\n",
       "                                                text       subject  \\\n",
       "0  WASHINGTON (Reuters) - The head of a conservat...  politicsNews   \n",
       "1  WASHINGTON (Reuters) - Transgender people will...  politicsNews   \n",
       "2  WASHINGTON (Reuters) - The special counsel inv...  politicsNews   \n",
       "3  WASHINGTON (Reuters) - Trump campaign adviser ...  politicsNews   \n",
       "4  SEATTLE/WASHINGTON (Reuters) - President Donal...  politicsNews   \n",
       "\n",
       "                 date  category  \n",
       "0  December 31, 2017          1  \n",
       "1  December 29, 2017          1  \n",
       "2  December 31, 2017          1  \n",
       "3  December 30, 2017          1  \n",
       "4  December 29, 2017          1  "
      ]
     },
     "execution_count": 3,
     "metadata": {
      "tags": []
     },
     "output_type": "execute_result"
    }
   ],
   "source": [
    "df.head()"
   ]
  },
  {
   "cell_type": "code",
   "execution_count": null,
   "metadata": {
    "id": "OdI8wDCba3-Z"
   },
   "outputs": [],
   "source": [
    "from nltk import pos_tag # function that tags words by their part of speech (POS)"
   ]
  },
  {
   "cell_type": "code",
   "execution_count": null,
   "metadata": {
    "id": "D4hawKmra3-d",
    "outputId": "39530ad5-5a03-4be0-f902-ceacc75e7988"
   },
   "outputs": [
    {
     "data": {
      "text/plain": [
       "0    [(As, IN), (U.S., NNP), (budget, NN), (fight, ...\n",
       "1    [(U.S., NNP), (military, JJ), (to, TO), (accep...\n",
       "2    [(Senior, JJ), (U.S., NNP), (Republican, NNP),...\n",
       "3    [(FBI, NNP), (Russia, NNP), (probe, NN), (help...\n",
       "4    [(Trump, NN), (wants, VBZ), (Postal, NNP), (Se...\n",
       "Name: title, dtype: object"
      ]
     },
     "execution_count": 5,
     "metadata": {
      "tags": []
     },
     "output_type": "execute_result"
    }
   ],
   "source": [
    "tagged_news_titles = df['title'].str.split().map(pos_tag)\n",
    "tagged_news_titles.head()"
   ]
  },
  {
   "cell_type": "code",
   "execution_count": null,
   "metadata": {
    "id": "d1kQ6dZYa3-h",
    "outputId": "e87a39f2-8b30-41d4-e2c6-d2ea0d79ea18"
   },
   "outputs": [
    {
     "data": {
      "text/plain": [
       "0    {'IN': 1, 'NNP': 1, 'NN': 4, 'NNPS': 1, 'VBP':...\n",
       "1    {'NNP': 3, 'JJ': 1, 'TO': 1, 'VB': 1, 'NN': 1,...\n",
       "2    {'JJ': 1, 'NNP': 4, 'NN': 2, 'POS': 1, 'VB': 1...\n",
       "3      {'NNP': 3, 'NN': 2, 'VBD': 1, 'IN': 1, 'JJ': 2}\n",
       "4    {'NN': 2, 'VBZ': 1, 'NNP': 3, 'TO': 1, 'VB': 1...\n",
       "Name: title, dtype: object"
      ]
     },
     "execution_count": 7,
     "metadata": {
      "tags": []
     },
     "output_type": "execute_result"
    }
   ],
   "source": [
    "def count_tags(title_with_tags):\n",
    "    tag_count = {}\n",
    "    for word, tag in title_with_tags:\n",
    "        if tag in tag_count:\n",
    "            tag_count[tag] += 1\n",
    "        else:\n",
    "            tag_count[tag] = 1\n",
    "    return(tag_count)\n",
    "tagged_news_titles.map(count_tags).head()"
   ]
  },
  {
   "cell_type": "code",
   "execution_count": null,
   "metadata": {
    "id": "sy7E8Bwda3-m",
    "outputId": "41da4de6-b6d6-4316-cc21-847b9add41f6"
   },
   "outputs": [
    {
     "data": {
      "text/html": [
       "<div>\n",
       "<style scoped>\n",
       "    .dataframe tbody tr th:only-of-type {\n",
       "        vertical-align: middle;\n",
       "    }\n",
       "\n",
       "    .dataframe tbody tr th {\n",
       "        vertical-align: top;\n",
       "    }\n",
       "\n",
       "    .dataframe thead th {\n",
       "        text-align: right;\n",
       "    }\n",
       "</style>\n",
       "<table border=\"1\" class=\"dataframe\">\n",
       "  <thead>\n",
       "    <tr style=\"text-align: right;\">\n",
       "      <th></th>\n",
       "      <th>title</th>\n",
       "      <th>tag_counts</th>\n",
       "    </tr>\n",
       "  </thead>\n",
       "  <tbody>\n",
       "    <tr>\n",
       "      <th>0</th>\n",
       "      <td>[(As, IN), (U.S., NNP), (budget, NN), (fight, ...</td>\n",
       "      <td>{'IN': 1, 'NNP': 1, 'NN': 4, 'NNPS': 1, 'VBP':...</td>\n",
       "    </tr>\n",
       "    <tr>\n",
       "      <th>1</th>\n",
       "      <td>[(U.S., NNP), (military, JJ), (to, TO), (accep...</td>\n",
       "      <td>{'NNP': 3, 'JJ': 1, 'TO': 1, 'VB': 1, 'NN': 1,...</td>\n",
       "    </tr>\n",
       "    <tr>\n",
       "      <th>2</th>\n",
       "      <td>[(Senior, JJ), (U.S., NNP), (Republican, NNP),...</td>\n",
       "      <td>{'JJ': 1, 'NNP': 4, 'NN': 2, 'POS': 1, 'VB': 1...</td>\n",
       "    </tr>\n",
       "    <tr>\n",
       "      <th>3</th>\n",
       "      <td>[(FBI, NNP), (Russia, NNP), (probe, NN), (help...</td>\n",
       "      <td>{'NNP': 3, 'NN': 2, 'VBD': 1, 'IN': 1, 'JJ': 2}</td>\n",
       "    </tr>\n",
       "    <tr>\n",
       "      <th>4</th>\n",
       "      <td>[(Trump, NN), (wants, VBZ), (Postal, NNP), (Se...</td>\n",
       "      <td>{'NN': 2, 'VBZ': 1, 'NNP': 3, 'TO': 1, 'VB': 1...</td>\n",
       "    </tr>\n",
       "  </tbody>\n",
       "</table>\n",
       "</div>"
      ],
      "text/plain": [
       "                                               title  \\\n",
       "0  [(As, IN), (U.S., NNP), (budget, NN), (fight, ...   \n",
       "1  [(U.S., NNP), (military, JJ), (to, TO), (accep...   \n",
       "2  [(Senior, JJ), (U.S., NNP), (Republican, NNP),...   \n",
       "3  [(FBI, NNP), (Russia, NNP), (probe, NN), (help...   \n",
       "4  [(Trump, NN), (wants, VBZ), (Postal, NNP), (Se...   \n",
       "\n",
       "                                          tag_counts  \n",
       "0  {'IN': 1, 'NNP': 1, 'NN': 4, 'NNPS': 1, 'VBP':...  \n",
       "1  {'NNP': 3, 'JJ': 1, 'TO': 1, 'VB': 1, 'NN': 1,...  \n",
       "2  {'JJ': 1, 'NNP': 4, 'NN': 2, 'POS': 1, 'VB': 1...  \n",
       "3    {'NNP': 3, 'NN': 2, 'VBD': 1, 'IN': 1, 'JJ': 2}  \n",
       "4  {'NN': 2, 'VBZ': 1, 'NNP': 3, 'TO': 1, 'VB': 1...  "
      ]
     },
     "execution_count": 8,
     "metadata": {
      "tags": []
     },
     "output_type": "execute_result"
    }
   ],
   "source": [
    "tagged_news_titles = pd.DataFrame(tagged_news_titles)\n",
    "tagged_news_titles['tag_counts'] = tagged_news_titles['title'].map(count_tags)\n",
    "tagged_news_titles.head()"
   ]
  },
  {
   "cell_type": "code",
   "execution_count": null,
   "metadata": {
    "id": "18Pd4omGa3-r",
    "outputId": "32f04698-29c8-4915-a289-0a0acc834935"
   },
   "outputs": [
    {
     "data": {
      "text/plain": [
       "<AxesSubplot:title={'center':'Frequency of POS Tags in News'}>"
      ]
     },
     "execution_count": 9,
     "metadata": {
      "tags": []
     },
     "output_type": "execute_result"
    },
    {
     "data": {
      "image/png": "[encoded data removed]",
      "text/plain": [
       "<Figure size 864x576 with 1 Axes>"
      ]
     },
     "metadata": {
      "needs_background": "light",
      "tags": []
     },
     "output_type": "display_data"
    }
   ],
   "source": [
    "# list of part-of-speech tags used in the Penn Treebank Project: \n",
    "# https://www.ling.upenn.edu/courses/Fall_2003/ling001/penn_treebank_pos.html\n",
    "tag_set = list(set([tag for tags in tagged_news_titles['tag_counts'] for tag in tags]))\n",
    "for tag in tag_set:\n",
    "    tagged_news_titles[tag] = tagged_news_titles['tag_counts'].map(lambda x: x.get(tag, 0))\n",
    "title = 'Frequency of POS Tags in News'    \n",
    "tagged_news_titles[tag_set].sum().sort_values().plot(kind='barh', logx=True, figsize=(12,8), title=title)"
   ]
  },
  {
   "cell_type": "code",
   "execution_count": null,
   "metadata": {
    "id": "DJZHIt8Ia3-v",
    "outputId": "7ad7cf44-2ea5-4982-c710-6df1fed3eb60"
   },
   "outputs": [
    {
     "data": {
      "text/html": [
       "<div>\n",
       "<style scoped>\n",
       "    .dataframe tbody tr th:only-of-type {\n",
       "        vertical-align: middle;\n",
       "    }\n",
       "\n",
       "    .dataframe tbody tr th {\n",
       "        vertical-align: top;\n",
       "    }\n",
       "\n",
       "    .dataframe thead th {\n",
       "        text-align: right;\n",
       "    }\n",
       "</style>\n",
       "<table border=\"1\" class=\"dataframe\">\n",
       "  <thead>\n",
       "    <tr style=\"text-align: right;\">\n",
       "      <th></th>\n",
       "      <th>IN</th>\n",
       "      <th>NNP</th>\n",
       "      <th>RB</th>\n",
       "      <th>NN</th>\n",
       "      <th>VB</th>\n",
       "      <th>JJ</th>\n",
       "      <th>VBD</th>\n",
       "      <th>VBP</th>\n",
       "      <th>VBN</th>\n",
       "      <th>NNPS</th>\n",
       "      <th>...</th>\n",
       "      <th>WDT</th>\n",
       "      <th>WP</th>\n",
       "      <th>PDT</th>\n",
       "      <th>RBS</th>\n",
       "      <th>WP$</th>\n",
       "      <th>EX</th>\n",
       "      <th>UH</th>\n",
       "      <th>,</th>\n",
       "      <th>$</th>\n",
       "      <th>.</th>\n",
       "    </tr>\n",
       "  </thead>\n",
       "  <tbody>\n",
       "    <tr>\n",
       "      <th>Trump</th>\n",
       "      <td>1.0</td>\n",
       "      <td>9203.0</td>\n",
       "      <td>4.0</td>\n",
       "      <td>860.0</td>\n",
       "      <td>93.0</td>\n",
       "      <td>9.0</td>\n",
       "      <td>0.0</td>\n",
       "      <td>21.0</td>\n",
       "      <td>0.0</td>\n",
       "      <td>3.0</td>\n",
       "      <td>...</td>\n",
       "      <td>0.0</td>\n",
       "      <td>0.0</td>\n",
       "      <td>0.0</td>\n",
       "      <td>0.0</td>\n",
       "      <td>0.0</td>\n",
       "      <td>0.0</td>\n",
       "      <td>0.0</td>\n",
       "      <td>0.0</td>\n",
       "      <td>0.0</td>\n",
       "      <td>0.0</td>\n",
       "    </tr>\n",
       "    <tr>\n",
       "      <th>U.S.</th>\n",
       "      <td>0.0</td>\n",
       "      <td>4315.0</td>\n",
       "      <td>0.0</td>\n",
       "      <td>0.0</td>\n",
       "      <td>0.0</td>\n",
       "      <td>0.0</td>\n",
       "      <td>0.0</td>\n",
       "      <td>0.0</td>\n",
       "      <td>0.0</td>\n",
       "      <td>0.0</td>\n",
       "      <td>...</td>\n",
       "      <td>0.0</td>\n",
       "      <td>0.0</td>\n",
       "      <td>0.0</td>\n",
       "      <td>0.0</td>\n",
       "      <td>0.0</td>\n",
       "      <td>0.0</td>\n",
       "      <td>0.0</td>\n",
       "      <td>0.0</td>\n",
       "      <td>0.0</td>\n",
       "      <td>0.0</td>\n",
       "    </tr>\n",
       "    <tr>\n",
       "      <th>A</th>\n",
       "      <td>0.0</td>\n",
       "      <td>2248.0</td>\n",
       "      <td>0.0</td>\n",
       "      <td>0.0</td>\n",
       "      <td>3.0</td>\n",
       "      <td>0.0</td>\n",
       "      <td>0.0</td>\n",
       "      <td>1.0</td>\n",
       "      <td>0.0</td>\n",
       "      <td>0.0</td>\n",
       "      <td>...</td>\n",
       "      <td>0.0</td>\n",
       "      <td>0.0</td>\n",
       "      <td>0.0</td>\n",
       "      <td>0.0</td>\n",
       "      <td>0.0</td>\n",
       "      <td>0.0</td>\n",
       "      <td>0.0</td>\n",
       "      <td>0.0</td>\n",
       "      <td>0.0</td>\n",
       "      <td>0.0</td>\n",
       "    </tr>\n",
       "    <tr>\n",
       "      <th>House</th>\n",
       "      <td>0.0</td>\n",
       "      <td>1774.0</td>\n",
       "      <td>0.0</td>\n",
       "      <td>0.0</td>\n",
       "      <td>0.0</td>\n",
       "      <td>0.0</td>\n",
       "      <td>0.0</td>\n",
       "      <td>0.0</td>\n",
       "      <td>0.0</td>\n",
       "      <td>0.0</td>\n",
       "      <td>...</td>\n",
       "      <td>0.0</td>\n",
       "      <td>0.0</td>\n",
       "      <td>0.0</td>\n",
       "      <td>0.0</td>\n",
       "      <td>0.0</td>\n",
       "      <td>0.0</td>\n",
       "      <td>0.0</td>\n",
       "      <td>0.0</td>\n",
       "      <td>0.0</td>\n",
       "      <td>0.0</td>\n",
       "    </tr>\n",
       "    <tr>\n",
       "      <th>Obama</th>\n",
       "      <td>0.0</td>\n",
       "      <td>1588.0</td>\n",
       "      <td>0.0</td>\n",
       "      <td>15.0</td>\n",
       "      <td>6.0</td>\n",
       "      <td>0.0</td>\n",
       "      <td>0.0</td>\n",
       "      <td>0.0</td>\n",
       "      <td>0.0</td>\n",
       "      <td>0.0</td>\n",
       "      <td>...</td>\n",
       "      <td>0.0</td>\n",
       "      <td>0.0</td>\n",
       "      <td>0.0</td>\n",
       "      <td>0.0</td>\n",
       "      <td>0.0</td>\n",
       "      <td>0.0</td>\n",
       "      <td>0.0</td>\n",
       "      <td>0.0</td>\n",
       "      <td>0.0</td>\n",
       "      <td>0.0</td>\n",
       "    </tr>\n",
       "    <tr>\n",
       "      <th>White</th>\n",
       "      <td>0.0</td>\n",
       "      <td>1410.0</td>\n",
       "      <td>0.0</td>\n",
       "      <td>0.0</td>\n",
       "      <td>0.0</td>\n",
       "      <td>0.0</td>\n",
       "      <td>0.0</td>\n",
       "      <td>0.0</td>\n",
       "      <td>0.0</td>\n",
       "      <td>0.0</td>\n",
       "      <td>...</td>\n",
       "      <td>0.0</td>\n",
       "      <td>0.0</td>\n",
       "      <td>0.0</td>\n",
       "      <td>0.0</td>\n",
       "      <td>0.0</td>\n",
       "      <td>0.0</td>\n",
       "      <td>0.0</td>\n",
       "      <td>0.0</td>\n",
       "      <td>0.0</td>\n",
       "      <td>0.0</td>\n",
       "    </tr>\n",
       "    <tr>\n",
       "      <th>Trump’s</th>\n",
       "      <td>0.0</td>\n",
       "      <td>1314.0</td>\n",
       "      <td>0.0</td>\n",
       "      <td>4.0</td>\n",
       "      <td>8.0</td>\n",
       "      <td>0.0</td>\n",
       "      <td>0.0</td>\n",
       "      <td>2.0</td>\n",
       "      <td>0.0</td>\n",
       "      <td>0.0</td>\n",
       "      <td>...</td>\n",
       "      <td>0.0</td>\n",
       "      <td>0.0</td>\n",
       "      <td>0.0</td>\n",
       "      <td>0.0</td>\n",
       "      <td>0.0</td>\n",
       "      <td>0.0</td>\n",
       "      <td>0.0</td>\n",
       "      <td>0.0</td>\n",
       "      <td>0.0</td>\n",
       "      <td>0.0</td>\n",
       "    </tr>\n",
       "    <tr>\n",
       "      <th>Clinton</th>\n",
       "      <td>0.0</td>\n",
       "      <td>1142.0</td>\n",
       "      <td>0.0</td>\n",
       "      <td>5.0</td>\n",
       "      <td>0.0</td>\n",
       "      <td>0.0</td>\n",
       "      <td>0.0</td>\n",
       "      <td>0.0</td>\n",
       "      <td>0.0</td>\n",
       "      <td>0.0</td>\n",
       "      <td>...</td>\n",
       "      <td>0.0</td>\n",
       "      <td>0.0</td>\n",
       "      <td>0.0</td>\n",
       "      <td>0.0</td>\n",
       "      <td>0.0</td>\n",
       "      <td>0.0</td>\n",
       "      <td>0.0</td>\n",
       "      <td>0.0</td>\n",
       "      <td>0.0</td>\n",
       "      <td>0.0</td>\n",
       "    </tr>\n",
       "    <tr>\n",
       "      <th>Just</th>\n",
       "      <td>0.0</td>\n",
       "      <td>1125.0</td>\n",
       "      <td>43.0</td>\n",
       "      <td>0.0</td>\n",
       "      <td>2.0</td>\n",
       "      <td>2.0</td>\n",
       "      <td>0.0</td>\n",
       "      <td>12.0</td>\n",
       "      <td>0.0</td>\n",
       "      <td>0.0</td>\n",
       "      <td>...</td>\n",
       "      <td>0.0</td>\n",
       "      <td>0.0</td>\n",
       "      <td>0.0</td>\n",
       "      <td>0.0</td>\n",
       "      <td>0.0</td>\n",
       "      <td>0.0</td>\n",
       "      <td>0.0</td>\n",
       "      <td>0.0</td>\n",
       "      <td>0.0</td>\n",
       "      <td>0.0</td>\n",
       "    </tr>\n",
       "    <tr>\n",
       "      <th>Hillary</th>\n",
       "      <td>0.0</td>\n",
       "      <td>1102.0</td>\n",
       "      <td>0.0</td>\n",
       "      <td>0.0</td>\n",
       "      <td>0.0</td>\n",
       "      <td>45.0</td>\n",
       "      <td>0.0</td>\n",
       "      <td>0.0</td>\n",
       "      <td>0.0</td>\n",
       "      <td>0.0</td>\n",
       "      <td>...</td>\n",
       "      <td>0.0</td>\n",
       "      <td>0.0</td>\n",
       "      <td>0.0</td>\n",
       "      <td>0.0</td>\n",
       "      <td>0.0</td>\n",
       "      <td>0.0</td>\n",
       "      <td>0.0</td>\n",
       "      <td>0.0</td>\n",
       "      <td>0.0</td>\n",
       "      <td>0.0</td>\n",
       "    </tr>\n",
       "  </tbody>\n",
       "</table>\n",
       "<p>10 rows × 40 columns</p>\n",
       "</div>"
      ],
      "text/plain": [
       "          IN     NNP    RB     NN    VB    JJ  VBD   VBP  VBN  NNPS  ...  WDT  \\\n",
       "Trump    1.0  9203.0   4.0  860.0  93.0   9.0  0.0  21.0  0.0   3.0  ...  0.0   \n",
       "U.S.     0.0  4315.0   0.0    0.0   0.0   0.0  0.0   0.0  0.0   0.0  ...  0.0   \n",
       "A        0.0  2248.0   0.0    0.0   3.0   0.0  0.0   1.0  0.0   0.0  ...  0.0   \n",
       "House    0.0  1774.0   0.0    0.0   0.0   0.0  0.0   0.0  0.0   0.0  ...  0.0   \n",
       "Obama    0.0  1588.0   0.0   15.0   6.0   0.0  0.0   0.0  0.0   0.0  ...  0.0   \n",
       "White    0.0  1410.0   0.0    0.0   0.0   0.0  0.0   0.0  0.0   0.0  ...  0.0   \n",
       "Trump’s  0.0  1314.0   0.0    4.0   8.0   0.0  0.0   2.0  0.0   0.0  ...  0.0   \n",
       "Clinton  0.0  1142.0   0.0    5.0   0.0   0.0  0.0   0.0  0.0   0.0  ...  0.0   \n",
       "Just     0.0  1125.0  43.0    0.0   2.0   2.0  0.0  12.0  0.0   0.0  ...  0.0   \n",
       "Hillary  0.0  1102.0   0.0    0.0   0.0  45.0  0.0   0.0  0.0   0.0  ...  0.0   \n",
       "\n",
       "          WP  PDT  RBS  WP$   EX   UH    ,    $    .  \n",
       "Trump    0.0  0.0  0.0  0.0  0.0  0.0  0.0  0.0  0.0  \n",
       "U.S.     0.0  0.0  0.0  0.0  0.0  0.0  0.0  0.0  0.0  \n",
       "A        0.0  0.0  0.0  0.0  0.0  0.0  0.0  0.0  0.0  \n",
       "House    0.0  0.0  0.0  0.0  0.0  0.0  0.0  0.0  0.0  \n",
       "Obama    0.0  0.0  0.0  0.0  0.0  0.0  0.0  0.0  0.0  \n",
       "White    0.0  0.0  0.0  0.0  0.0  0.0  0.0  0.0  0.0  \n",
       "Trump’s  0.0  0.0  0.0  0.0  0.0  0.0  0.0  0.0  0.0  \n",
       "Clinton  0.0  0.0  0.0  0.0  0.0  0.0  0.0  0.0  0.0  \n",
       "Just     0.0  0.0  0.0  0.0  0.0  0.0  0.0  0.0  0.0  \n",
       "Hillary  0.0  0.0  0.0  0.0  0.0  0.0  0.0  0.0  0.0  \n",
       "\n",
       "[10 rows x 40 columns]"
      ]
     },
     "execution_count": 10,
     "metadata": {
      "tags": []
     },
     "output_type": "execute_result"
    }
   ],
   "source": [
    "vocabulary = {}\n",
    "for row in tagged_news_titles['title']:\n",
    "    for word, tag in row:\n",
    "        if word in vocabulary:\n",
    "            if tag in vocabulary[word]:\n",
    "                vocabulary[word][tag] += 1\n",
    "            else:\n",
    "                vocabulary[word][tag] = 1\n",
    "        else:\n",
    "            vocabulary[word] = {tag: 1}\n",
    "vocabulary_df = pd.DataFrame.from_dict(vocabulary, orient='index')\n",
    "vocabulary_df.fillna(value=0, inplace=True)\n",
    "tag = 'NNP' # NNP: Proper noun, singular \n",
    "vocabulary_df.sort_values(by=tag, ascending=False).head(10) # top 10 words for a given tag"
   ]
  },
  {
   "cell_type": "code",
   "execution_count": null,
   "metadata": {
    "id": "g1yMA_oma3-z",
    "outputId": "56a531b0-f46f-4ce1-e524-6685d4936e3c"
   },
   "outputs": [
    {
     "data": {
      "text/plain": [
       "<AxesSubplot:title={'center':'Top 25 Most Frequent Words for VBG Tag'}>"
      ]
     },
     "execution_count": 11,
     "metadata": {
      "tags": []
     },
     "output_type": "execute_result"
    },
    {
     "data": {
      "image/png": "[encoded data removed]",
      "text/plain": [
       "<Figure size 864x432 with 1 Axes>"
      ]
     },
     "metadata": {
      "needs_background": "light",
      "tags": []
     },
     "output_type": "display_data"
    }
   ],
   "source": [
    "size = 25\n",
    "tag = 'VBG' # VBG: Verb, gerund or present participle\n",
    "title = 'Top {} Most Frequent Words for {} Tag'.format(size, tag)\n",
    "vocabulary_df[tag].sort_values().tail(size).plot(kind='barh', figsize=(12,6), title=title)"
   ]
  },
  {
   "cell_type": "code",
   "execution_count": null,
   "metadata": {
    "id": "vr1_STTTa3-2"
   },
   "outputs": [],
   "source": [
    "size = 25\n",
    "tag = 'NN' # VBG: Verb, gerund or present participle\n",
    "title = 'Top {} Most Frequent Words for {} Tag'.format(size, tag)\n",
    "vocabulary_df[tag].sort_values().tail(size).plot(kind='barh', figsize=(12,6), title=title)"
   ]
  }
 ],
 "metadata": {
  "colab": {
   "name": "NLP J-comp POS Tagging.ipynb",
   "provenance": []
  },
  "kernelspec": {
   "display_name": "Python 3",
   "language": "python",
   "name": "python3"
  },
  "language_info": {
   "codemirror_mode": {
    "name": "ipython",
    "version": 3
   },
   "file_extension": ".py",
   "mimetype": "text/x-python",
   "name": "python",
   "nbconvert_exporter": "python",
   "pygments_lexer": "ipython3",
   "version": "3.8.3"
  }
 },
 "nbformat": 4,
 "nbformat_minor": 1
}
